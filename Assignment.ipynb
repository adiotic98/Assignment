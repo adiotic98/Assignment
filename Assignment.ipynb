{
 "cells": [
  {
   "cell_type": "markdown",
   "id": "7ca7fa61",
   "metadata": {},
   "source": [
    "### Submission: \n",
    "Submit your assignment in GITHUB Repository in the form of .ipynb (code must merged to the main branch) Include code, visualization and explanation of each task. \n",
    "\n",
    "You can follow these initial steps:\n",
    "•\tCreate a GITHUB repository\n",
    "•\tAdd your team member as collaborators.\n",
    "•\tCreate your separate branch from main.\n"
   ]
  },
  {
   "cell_type": "markdown",
   "id": "a99a357a",
   "metadata": {},
   "source": [
    "### Assignment: Analyzing Stock Data\n",
    "\n",
    "### Background:\n",
    "You have been provided with a dataset containing historical stock price data for a company. \n",
    "Your task is to perform various data analysis tasks using Pandas, NumPy, and Matplotlib to gain insights into the stock's performance.\n",
    "\n",
    "Dataset: You can use any stock price dataset or create a synthetic dataset for this assignment. The dataset should contain at least the following columns:\n",
    "\n",
    "Date (representing the trading dates)\n",
    "Open (the opening price of the stock on that date)\n",
    "Close (the closing price of the stock on that date)\n",
    "High (the highest price of the stock during the trading session)\n",
    "Low (the lowest price of the stock during the trading session)\n",
    "Volume (the trading volume of the stock on that date)\n",
    "You can use libraries like yfinance to fetch real stock data or create a synthetic dataset using NumPy.\n",
    "\n",
    "Tasks:\n",
    "\n",
    "#### Data Loading and Inspection:\n",
    "Load the stock price dataset into a Pandas DataFrame.\n",
    "Display the first 5 rows of the DataFrame.\n",
    "Check for missing values and handle them if necessary.\n",
    "\n",
    "#### Data Exploration:\n",
    "Calculate and display basic statistics (mean, median, standard deviation) for the 'Close' price.\n",
    "Create a line plot of the 'Close' price over time (use Date on the x-axis).\n",
    "\n",
    "\n",
    "#### Data Analysis:\n",
    "Calculate and visualize the moving average of the stock's 'Close' price over a specific window (e.g., 30 days).\n",
    "Identify and visualize any significant price changes or trends in the stock.\n",
    "Volume Analysis\n",
    "\n",
    "#### Analyze the trading volume of the stock:\n",
    "Calculate the average daily trading volume.\n",
    "Visualize the trading volume over time.\n",
    "\n",
    "#### Financial Metrics:\n",
    "Calculate daily returns for the stock.\n",
    "Calculate and visualize the cumulative returns of the stock over time.\n",
    "Calculate and visualize the rolling standard deviation of the daily returns.\n",
    "\n",
    "#### Correlation Analysis:\n",
    "Calculate the correlation between the stock's returns and the returns of a market index (e.g., S&P 500).\n",
    "Visualize the correlation using a scatter plot.\n",
    "\n",
    "#### Conclusion:\n",
    "Summarize your findings from the analysis.\n",
    "Provide insights into the stock's performance and any trends or patterns you observed.\n"
   ]
  },
  {
   "cell_type": "code",
   "execution_count": 1,
   "id": "6859e478",
   "metadata": {},
   "outputs": [],
   "source": [
    "import pandas as pd"
   ]
  },
  {
   "cell_type": "code",
   "execution_count": 2,
   "id": "af2e6a9f",
   "metadata": {},
   "outputs": [],
   "source": [
    "data=pd.read_csv('stock_data.csv')"
   ]
  },
  {
   "cell_type": "code",
   "execution_count": 4,
   "id": "5bc78e4e",
   "metadata": {},
   "outputs": [],
   "source": [
    "#### Data Loading and Inspection:\n"
   ]
  },
  {
   "cell_type": "code",
   "execution_count": 3,
   "id": "a40e9375",
   "metadata": {},
   "outputs": [
    {
     "data": {
      "text/html": [
       "<div>\n",
       "<style scoped>\n",
       "    .dataframe tbody tr th:only-of-type {\n",
       "        vertical-align: middle;\n",
       "    }\n",
       "\n",
       "    .dataframe tbody tr th {\n",
       "        vertical-align: top;\n",
       "    }\n",
       "\n",
       "    .dataframe thead th {\n",
       "        text-align: right;\n",
       "    }\n",
       "</style>\n",
       "<table border=\"1\" class=\"dataframe\">\n",
       "  <thead>\n",
       "    <tr style=\"text-align: right;\">\n",
       "      <th></th>\n",
       "      <th>Date</th>\n",
       "      <th>Open</th>\n",
       "      <th>Close</th>\n",
       "      <th>High</th>\n",
       "      <th>Low</th>\n",
       "      <th>Volume</th>\n",
       "    </tr>\n",
       "  </thead>\n",
       "  <tbody>\n",
       "    <tr>\n",
       "      <th>0</th>\n",
       "      <td>01-01-2023</td>\n",
       "      <td>100</td>\n",
       "      <td>105</td>\n",
       "      <td>110</td>\n",
       "      <td>95</td>\n",
       "      <td>1000000</td>\n",
       "    </tr>\n",
       "    <tr>\n",
       "      <th>1</th>\n",
       "      <td>02-01-2023</td>\n",
       "      <td>105</td>\n",
       "      <td>102</td>\n",
       "      <td>108</td>\n",
       "      <td>100</td>\n",
       "      <td>950000</td>\n",
       "    </tr>\n",
       "    <tr>\n",
       "      <th>2</th>\n",
       "      <td>03-01-2023</td>\n",
       "      <td>102</td>\n",
       "      <td>108</td>\n",
       "      <td>112</td>\n",
       "      <td>100</td>\n",
       "      <td>1100000</td>\n",
       "    </tr>\n",
       "    <tr>\n",
       "      <th>3</th>\n",
       "      <td>04-01-2023</td>\n",
       "      <td>108</td>\n",
       "      <td>110</td>\n",
       "      <td>115</td>\n",
       "      <td>105</td>\n",
       "      <td>1200000</td>\n",
       "    </tr>\n",
       "    <tr>\n",
       "      <th>4</th>\n",
       "      <td>05-01-2023</td>\n",
       "      <td>110</td>\n",
       "      <td>115</td>\n",
       "      <td>120</td>\n",
       "      <td>108</td>\n",
       "      <td>1050000</td>\n",
       "    </tr>\n",
       "  </tbody>\n",
       "</table>\n",
       "</div>"
      ],
      "text/plain": [
       "         Date  Open  Close  High  Low   Volume\n",
       "0  01-01-2023   100    105   110   95  1000000\n",
       "1  02-01-2023   105    102   108  100   950000\n",
       "2  03-01-2023   102    108   112  100  1100000\n",
       "3  04-01-2023   108    110   115  105  1200000\n",
       "4  05-01-2023   110    115   120  108  1050000"
      ]
     },
     "execution_count": 3,
     "metadata": {},
     "output_type": "execute_result"
    }
   ],
   "source": [
    "data.head()"
   ]
  },
  {
   "cell_type": "code",
   "execution_count": 4,
   "id": "b92b6697",
   "metadata": {},
   "outputs": [
    {
     "data": {
      "text/plain": [
       "(15, 6)"
      ]
     },
     "execution_count": 4,
     "metadata": {},
     "output_type": "execute_result"
    }
   ],
   "source": [
    "data.shape"
   ]
  },
  {
   "cell_type": "code",
   "execution_count": 5,
   "id": "65790bc7",
   "metadata": {},
   "outputs": [
    {
     "data": {
      "text/plain": [
       "Date      0\n",
       "Open      0\n",
       "Close     0\n",
       "High      0\n",
       "Low       0\n",
       "Volume    0\n",
       "dtype: int64"
      ]
     },
     "execution_count": 5,
     "metadata": {},
     "output_type": "execute_result"
    }
   ],
   "source": [
    "data.isnull().sum()"
   ]
  },
  {
   "cell_type": "code",
   "execution_count": 6,
   "id": "b04bb9c2",
   "metadata": {},
   "outputs": [
    {
     "name": "stdout",
     "output_type": "stream",
     "text": [
      "<class 'pandas.core.frame.DataFrame'>\n",
      "RangeIndex: 15 entries, 0 to 14\n",
      "Data columns (total 6 columns):\n",
      " #   Column  Non-Null Count  Dtype \n",
      "---  ------  --------------  ----- \n",
      " 0   Date    15 non-null     object\n",
      " 1   Open    15 non-null     int64 \n",
      " 2   Close   15 non-null     int64 \n",
      " 3   High    15 non-null     int64 \n",
      " 4   Low     15 non-null     int64 \n",
      " 5   Volume  15 non-null     int64 \n",
      "dtypes: int64(5), object(1)\n",
      "memory usage: 848.0+ bytes\n"
     ]
    }
   ],
   "source": [
    "data.info()"
   ]
  },
  {
   "cell_type": "code",
   "execution_count": 7,
   "id": "5a0374f4",
   "metadata": {},
   "outputs": [],
   "source": [
    "#### Data Exploration:\n"
   ]
  },
  {
   "cell_type": "code",
   "execution_count": 7,
   "id": "c994380e",
   "metadata": {},
   "outputs": [],
   "source": [
    "Close_price_stat=data['Close'].describe()"
   ]
  },
  {
   "cell_type": "code",
   "execution_count": 8,
   "id": "0f510f50",
   "metadata": {},
   "outputs": [
    {
     "data": {
      "text/plain": [
       "count     15.000000\n",
       "mean     113.666667\n",
       "std        7.441838\n",
       "min      102.000000\n",
       "25%      108.000000\n",
       "50%      112.000000\n",
       "75%      119.000000\n",
       "max      125.000000\n",
       "Name: Close, dtype: float64"
      ]
     },
     "execution_count": 8,
     "metadata": {},
     "output_type": "execute_result"
    }
   ],
   "source": [
    "Close_price_stat"
   ]
  },
  {
   "cell_type": "code",
   "execution_count": 9,
   "id": "e9cb29d6",
   "metadata": {},
   "outputs": [],
   "source": [
    "data['Date'] = pd.to_datetime(data['Date'], format='%d-%m-%Y')\n"
   ]
  },
  {
   "cell_type": "code",
   "execution_count": 10,
   "id": "0a3da808",
   "metadata": {},
   "outputs": [],
   "source": [
    "import matplotlib.pyplot as plt\n"
   ]
  },
  {
   "cell_type": "code",
   "execution_count": 11,
   "id": "cc52d5d9",
   "metadata": {},
   "outputs": [
    {
     "data": {
      "text/plain": [
       "<Figure size 720x432 with 0 Axes>"
      ]
     },
     "execution_count": 11,
     "metadata": {},
     "output_type": "execute_result"
    },
    {
     "data": {
      "text/plain": [
       "<Figure size 720x432 with 0 Axes>"
      ]
     },
     "metadata": {},
     "output_type": "display_data"
    }
   ],
   "source": [
    "plt.figure(figsize=(10, 6))\n"
   ]
  },
  {
   "cell_type": "code",
   "execution_count": 12,
   "id": "87541db9",
   "metadata": {},
   "outputs": [
    {
     "data": {
      "text/plain": [
       "(array([19358., 19360., 19362., 19364., 19366., 19368., 19370., 19372.]),\n",
       " [Text(0, 0, ''),\n",
       "  Text(0, 0, ''),\n",
       "  Text(0, 0, ''),\n",
       "  Text(0, 0, ''),\n",
       "  Text(0, 0, ''),\n",
       "  Text(0, 0, ''),\n",
       "  Text(0, 0, ''),\n",
       "  Text(0, 0, '')])"
      ]
     },
     "execution_count": 12,
     "metadata": {},
     "output_type": "execute_result"
    },
    {
     "data": {
      "image/png": "[encoded data removed]",
      "text/plain": [
       "<Figure size 432x288 with 1 Axes>"
      ]
     },
     "metadata": {
      "needs_background": "light"
     },
     "output_type": "display_data"
    }
   ],
   "source": [
    "plt.plot(data['Date'], data['Close'], marker='o', linestyle='-', color='b')\n",
    "plt.xlabel('Date')\n",
    "plt.ylabel('Close Price')\n",
    "\n",
    "plt.xticks(rotation=45)"
   ]
  },
  {
   "cell_type": "code",
   "execution_count": 25,
   "id": "50e00223",
   "metadata": {},
   "outputs": [],
   "source": [
    "#Data Analysis"
   ]
  },
  {
   "cell_type": "code",
   "execution_count": 13,
   "id": "6dcb1b8e",
   "metadata": {},
   "outputs": [],
   "source": [
    "window=30\n",
    "implement_moving_average=data['Close'].rolling(window=30,min_periods=1).mean()"
   ]
  },
  {
   "cell_type": "code",
   "execution_count": 14,
   "id": "dcbca89d",
   "metadata": {},
   "outputs": [
    {
     "data": {
      "text/plain": [
       "0     105.000000\n",
       "1     103.500000\n",
       "2     105.000000\n",
       "3     106.250000\n",
       "4     108.000000\n",
       "5     108.666667\n",
       "6     108.142857\n",
       "7     108.125000\n",
       "8     108.555556\n",
       "9     109.500000\n",
       "10    110.909091\n",
       "11    111.666667\n",
       "12    112.153846\n",
       "13    112.857143\n",
       "14    113.666667\n",
       "Name: Close, dtype: float64"
      ]
     },
     "execution_count": 14,
     "metadata": {},
     "output_type": "execute_result"
    }
   ],
   "source": [
    "implement_moving_average"
   ]
  },
  {
   "cell_type": "code",
   "execution_count": 15,
   "id": "3fb5b69a",
   "metadata": {},
   "outputs": [
    {
     "data": {
      "text/plain": [
       "[<matplotlib.lines.Line2D at 0x1b8908c08e0>]"
      ]
     },
     "execution_count": 15,
     "metadata": {},
     "output_type": "execute_result"
    },
    {
     "data": {
      "image/png": "[encoded data removed]",
      "text/plain": [
       "<Figure size 432x288 with 1 Axes>"
      ]
     },
     "metadata": {
      "needs_background": "light"
     },
     "output_type": "display_data"
    }
   ],
   "source": [
    "plt.plot(data.index, implement_moving_average, label=window, linestyle='-', color='r')\n"
   ]
  },
  {
   "cell_type": "code",
   "execution_count": 47,
   "id": "556623b2",
   "metadata": {},
   "outputs": [],
   "source": [
    "#Identify and visualize any significant price changes or trends in the stock.\n"
   ]
  },
  {
   "cell_type": "code",
   "execution_count": 16,
   "id": "b3e2907b",
   "metadata": {},
   "outputs": [],
   "source": [
    "data.set_index('Date',inplace=True)"
   ]
  },
  {
   "cell_type": "code",
   "execution_count": null,
   "id": "d6a7c7c4",
   "metadata": {},
   "outputs": [],
   "source": []
  },
  {
   "cell_type": "code",
   "execution_count": 17,
   "id": "b9b3265b",
   "metadata": {},
   "outputs": [
    {
     "data": {
      "text/plain": [
       "(array([19357., 19358., 19360., 19362., 19364., 19366., 19368., 19370.,\n",
       "        19372.]),\n",
       " [Text(0, 0, ''),\n",
       "  Text(0, 0, ''),\n",
       "  Text(0, 0, ''),\n",
       "  Text(0, 0, ''),\n",
       "  Text(0, 0, ''),\n",
       "  Text(0, 0, ''),\n",
       "  Text(0, 0, ''),\n",
       "  Text(0, 0, ''),\n",
       "  Text(0, 0, '')])"
      ]
     },
     "execution_count": 17,
     "metadata": {},
     "output_type": "execute_result"
    },
    {
     "data": {
      "image/png": "[encoded data removed]",
      "text/plain": [
       "<Figure size 864x432 with 1 Axes>"
      ]
     },
     "metadata": {
      "needs_background": "light"
     },
     "output_type": "display_data"
    }
   ],
   "source": [
    "\n",
    "plt.figure(figsize=(12, 6))\n",
    "\n",
    "plt.bar(data.index, data['Volume'], color='b', alpha=0.6)\n",
    "plt.xlabel('Date')\n",
    "plt.ylabel('Volume')\n",
    "plt.xticks(rotation=45)"
   ]
  },
  {
   "cell_type": "code",
   "execution_count": 54,
   "id": "a7736e7d",
   "metadata": {},
   "outputs": [],
   "source": [
    "#Calculate the average daily trading volume.\n"
   ]
  },
  {
   "cell_type": "code",
   "execution_count": 18,
   "id": "47d80d9c",
   "metadata": {},
   "outputs": [],
   "source": [
    "Avaerage_daily_trading_volume=data['Volume'].mean()"
   ]
  },
  {
   "cell_type": "code",
   "execution_count": 19,
   "id": "71f58d99",
   "metadata": {},
   "outputs": [],
   "source": [
    "#Visualize the trading volume over time.\n"
   ]
  },
  {
   "cell_type": "code",
   "execution_count": 20,
   "id": "07e02ad7",
   "metadata": {},
   "outputs": [
    {
     "data": {
      "text/plain": [
       "(array([19357., 19358., 19360., 19362., 19364., 19366., 19368., 19370.,\n",
       "        19372.]),\n",
       " [Text(19357.0, 0, '2022-12-31'),\n",
       "  Text(19358.0, 0, '2023-01-01'),\n",
       "  Text(19360.0, 0, '2023-01-03'),\n",
       "  Text(19362.0, 0, '2023-01-05'),\n",
       "  Text(19364.0, 0, '2023-01-07'),\n",
       "  Text(19366.0, 0, '2023-01-09'),\n",
       "  Text(19368.0, 0, '2023-01-11'),\n",
       "  Text(19370.0, 0, '2023-01-13'),\n",
       "  Text(19372.0, 0, '2023-01-15')])"
      ]
     },
     "execution_count": 20,
     "metadata": {},
     "output_type": "execute_result"
    },
    {
     "data": {
      "image/png": "[encoded data removed]",
      "text/plain": [
       "<Figure size 432x288 with 1 Axes>"
      ]
     },
     "metadata": {
      "needs_background": "light"
     },
     "output_type": "display_data"
    }
   ],
   "source": [
    "plt.bar(data.index, data['Volume'], color='b', alpha=0.6)\n",
    "\n",
    "\n",
    "plt.ylabel('Volume')\n",
    "plt.tight_layout()\n",
    "plt.xlabel('Date')\n",
    "plt.xticks(rotation=90)"
   ]
  },
  {
   "cell_type": "code",
   "execution_count": 66,
   "id": "e2eefbb6",
   "metadata": {},
   "outputs": [],
   "source": [
    "#Calculate daily returns for the stock.\n"
   ]
  },
  {
   "cell_type": "code",
   "execution_count": 27,
   "id": "00290737",
   "metadata": {},
   "outputs": [],
   "source": [
    "data['Daily_returns']=data['Close'].pct_change()"
   ]
  },
  {
   "cell_type": "code",
   "execution_count": 28,
   "id": "fbae403e",
   "metadata": {},
   "outputs": [
    {
     "data": {
      "text/html": [
       "<div>\n",
       "<style scoped>\n",
       "    .dataframe tbody tr th:only-of-type {\n",
       "        vertical-align: middle;\n",
       "    }\n",
       "\n",
       "    .dataframe tbody tr th {\n",
       "        vertical-align: top;\n",
       "    }\n",
       "\n",
       "    .dataframe thead th {\n",
       "        text-align: right;\n",
       "    }\n",
       "</style>\n",
       "<table border=\"1\" class=\"dataframe\">\n",
       "  <thead>\n",
       "    <tr style=\"text-align: right;\">\n",
       "      <th></th>\n",
       "      <th>Open</th>\n",
       "      <th>Close</th>\n",
       "      <th>High</th>\n",
       "      <th>Low</th>\n",
       "      <th>Volume</th>\n",
       "      <th>Daily_returns</th>\n",
       "      <th>cumulative_returns</th>\n",
       "    </tr>\n",
       "    <tr>\n",
       "      <th>Date</th>\n",
       "      <th></th>\n",
       "      <th></th>\n",
       "      <th></th>\n",
       "      <th></th>\n",
       "      <th></th>\n",
       "      <th></th>\n",
       "      <th></th>\n",
       "    </tr>\n",
       "  </thead>\n",
       "  <tbody>\n",
       "    <tr>\n",
       "      <th>2023-01-01</th>\n",
       "      <td>100</td>\n",
       "      <td>105</td>\n",
       "      <td>110</td>\n",
       "      <td>95</td>\n",
       "      <td>1000000</td>\n",
       "      <td>NaN</td>\n",
       "      <td>NaN</td>\n",
       "    </tr>\n",
       "    <tr>\n",
       "      <th>2023-01-02</th>\n",
       "      <td>105</td>\n",
       "      <td>102</td>\n",
       "      <td>108</td>\n",
       "      <td>100</td>\n",
       "      <td>950000</td>\n",
       "      <td>-0.028571</td>\n",
       "      <td>-2.857143e-02</td>\n",
       "    </tr>\n",
       "    <tr>\n",
       "      <th>2023-01-03</th>\n",
       "      <td>102</td>\n",
       "      <td>108</td>\n",
       "      <td>112</td>\n",
       "      <td>100</td>\n",
       "      <td>1100000</td>\n",
       "      <td>0.058824</td>\n",
       "      <td>2.857143e-02</td>\n",
       "    </tr>\n",
       "    <tr>\n",
       "      <th>2023-01-04</th>\n",
       "      <td>108</td>\n",
       "      <td>110</td>\n",
       "      <td>115</td>\n",
       "      <td>105</td>\n",
       "      <td>1200000</td>\n",
       "      <td>0.018519</td>\n",
       "      <td>4.761905e-02</td>\n",
       "    </tr>\n",
       "    <tr>\n",
       "      <th>2023-01-05</th>\n",
       "      <td>110</td>\n",
       "      <td>115</td>\n",
       "      <td>120</td>\n",
       "      <td>108</td>\n",
       "      <td>1050000</td>\n",
       "      <td>0.045455</td>\n",
       "      <td>9.523810e-02</td>\n",
       "    </tr>\n",
       "    <tr>\n",
       "      <th>2023-01-06</th>\n",
       "      <td>115</td>\n",
       "      <td>112</td>\n",
       "      <td>118</td>\n",
       "      <td>110</td>\n",
       "      <td>980000</td>\n",
       "      <td>-0.026087</td>\n",
       "      <td>6.666667e-02</td>\n",
       "    </tr>\n",
       "    <tr>\n",
       "      <th>2023-01-07</th>\n",
       "      <td>112</td>\n",
       "      <td>105</td>\n",
       "      <td>115</td>\n",
       "      <td>100</td>\n",
       "      <td>1250000</td>\n",
       "      <td>-0.062500</td>\n",
       "      <td>2.220446e-16</td>\n",
       "    </tr>\n",
       "    <tr>\n",
       "      <th>2023-01-08</th>\n",
       "      <td>105</td>\n",
       "      <td>108</td>\n",
       "      <td>112</td>\n",
       "      <td>100</td>\n",
       "      <td>1150000</td>\n",
       "      <td>0.028571</td>\n",
       "      <td>2.857143e-02</td>\n",
       "    </tr>\n",
       "    <tr>\n",
       "      <th>2023-01-09</th>\n",
       "      <td>108</td>\n",
       "      <td>112</td>\n",
       "      <td>115</td>\n",
       "      <td>105</td>\n",
       "      <td>1050000</td>\n",
       "      <td>0.037037</td>\n",
       "      <td>6.666667e-02</td>\n",
       "    </tr>\n",
       "    <tr>\n",
       "      <th>2023-01-10</th>\n",
       "      <td>112</td>\n",
       "      <td>118</td>\n",
       "      <td>122</td>\n",
       "      <td>110</td>\n",
       "      <td>1000000</td>\n",
       "      <td>0.053571</td>\n",
       "      <td>1.238095e-01</td>\n",
       "    </tr>\n",
       "    <tr>\n",
       "      <th>2023-01-11</th>\n",
       "      <td>118</td>\n",
       "      <td>125</td>\n",
       "      <td>130</td>\n",
       "      <td>115</td>\n",
       "      <td>950000</td>\n",
       "      <td>0.059322</td>\n",
       "      <td>1.904762e-01</td>\n",
       "    </tr>\n",
       "    <tr>\n",
       "      <th>2023-01-12</th>\n",
       "      <td>125</td>\n",
       "      <td>120</td>\n",
       "      <td>128</td>\n",
       "      <td>115</td>\n",
       "      <td>900000</td>\n",
       "      <td>-0.040000</td>\n",
       "      <td>1.428571e-01</td>\n",
       "    </tr>\n",
       "    <tr>\n",
       "      <th>2023-01-13</th>\n",
       "      <td>120</td>\n",
       "      <td>118</td>\n",
       "      <td>124</td>\n",
       "      <td>112</td>\n",
       "      <td>850000</td>\n",
       "      <td>-0.016667</td>\n",
       "      <td>1.238095e-01</td>\n",
       "    </tr>\n",
       "    <tr>\n",
       "      <th>2023-01-14</th>\n",
       "      <td>118</td>\n",
       "      <td>122</td>\n",
       "      <td>126</td>\n",
       "      <td>115</td>\n",
       "      <td>820000</td>\n",
       "      <td>0.033898</td>\n",
       "      <td>1.619048e-01</td>\n",
       "    </tr>\n",
       "    <tr>\n",
       "      <th>2023-01-15</th>\n",
       "      <td>122</td>\n",
       "      <td>125</td>\n",
       "      <td>130</td>\n",
       "      <td>118</td>\n",
       "      <td>810000</td>\n",
       "      <td>0.024590</td>\n",
       "      <td>1.904762e-01</td>\n",
       "    </tr>\n",
       "  </tbody>\n",
       "</table>\n",
       "</div>"
      ],
      "text/plain": [
       "            Open  Close  High  Low   Volume  Daily_returns  cumulative_returns\n",
       "Date                                                                          \n",
       "2023-01-01   100    105   110   95  1000000            NaN                 NaN\n",
       "2023-01-02   105    102   108  100   950000      -0.028571       -2.857143e-02\n",
       "2023-01-03   102    108   112  100  1100000       0.058824        2.857143e-02\n",
       "2023-01-04   108    110   115  105  1200000       0.018519        4.761905e-02\n",
       "2023-01-05   110    115   120  108  1050000       0.045455        9.523810e-02\n",
       "2023-01-06   115    112   118  110   980000      -0.026087        6.666667e-02\n",
       "2023-01-07   112    105   115  100  1250000      -0.062500        2.220446e-16\n",
       "2023-01-08   105    108   112  100  1150000       0.028571        2.857143e-02\n",
       "2023-01-09   108    112   115  105  1050000       0.037037        6.666667e-02\n",
       "2023-01-10   112    118   122  110  1000000       0.053571        1.238095e-01\n",
       "2023-01-11   118    125   130  115   950000       0.059322        1.904762e-01\n",
       "2023-01-12   125    120   128  115   900000      -0.040000        1.428571e-01\n",
       "2023-01-13   120    118   124  112   850000      -0.016667        1.238095e-01\n",
       "2023-01-14   118    122   126  115   820000       0.033898        1.619048e-01\n",
       "2023-01-15   122    125   130  118   810000       0.024590        1.904762e-01"
      ]
     },
     "execution_count": 28,
     "metadata": {},
     "output_type": "execute_result"
    }
   ],
   "source": [
    "data"
   ]
  },
  {
   "cell_type": "code",
   "execution_count": 29,
   "id": "93b3d559",
   "metadata": {},
   "outputs": [
    {
     "data": {
      "text/plain": [
       "(array([19360., 19362., 19364., 19366., 19368., 19370., 19372.]),\n",
       " [Text(0, 0, ''),\n",
       "  Text(0, 0, ''),\n",
       "  Text(0, 0, ''),\n",
       "  Text(0, 0, ''),\n",
       "  Text(0, 0, ''),\n",
       "  Text(0, 0, ''),\n",
       "  Text(0, 0, '')])"
      ]
     },
     "execution_count": 29,
     "metadata": {},
     "output_type": "execute_result"
    },
    {
     "data": {
      "image/png": "[encoded data removed]",
      "text/plain": [
       "<Figure size 432x288 with 1 Axes>"
      ]
     },
     "metadata": {
      "needs_background": "light"
     },
     "output_type": "display_data"
    }
   ],
   "source": [
    "#Calculate and visualize the cumulative returns of the stock over time.\n",
    "\n",
    "data['cumulative_returns']= (1 + data['Daily_returns']).cumprod() - 1\n",
    "plt.plot(data.index, data['cumulative_returns'], linestyle='-', marker='o', color='b')\n",
    "\n",
    "plt.xticks(rotation=90)\n",
    "\n",
    "\n",
    "\n",
    "\n"
   ]
  },
  {
   "cell_type": "code",
   "execution_count": 30,
   "id": "b450e3c3",
   "metadata": {},
   "outputs": [],
   "source": [
    "#Calculate and visualize the rolling standard deviation of the daily returns.\n"
   ]
  },
  {
   "cell_type": "code",
   "execution_count": 31,
   "id": "00004a2d",
   "metadata": {},
   "outputs": [],
   "source": [
    "standrad_daily_returns=data['Daily_returns'].rolling(window=30,min_periods=1).std()"
   ]
  },
  {
   "cell_type": "code",
   "execution_count": 32,
   "id": "53d02234",
   "metadata": {},
   "outputs": [
    {
     "data": {
      "text/plain": [
       "Date\n",
       "2023-01-01         NaN\n",
       "2023-01-02         NaN\n",
       "2023-01-03    0.061798\n",
       "2023-01-04    0.043741\n",
       "2023-01-05    0.038583\n",
       "2023-01-06    0.040117\n",
       "2023-01-07    0.047470\n",
       "2023-01-08    0.044575\n",
       "2023-01-09    0.042805\n",
       "2023-01-10    0.042719\n",
       "2023-01-11    0.042764\n",
       "2023-01-12    0.044227\n",
       "2023-01-13    0.043036\n",
       "2023-01-14    0.041706\n",
       "2023-01-15    0.040202\n",
       "Name: Daily_returns, dtype: float64"
      ]
     },
     "execution_count": 32,
     "metadata": {},
     "output_type": "execute_result"
    }
   ],
   "source": [
    "standrad_daily_returns"
   ]
  },
  {
   "cell_type": "code",
   "execution_count": 33,
   "id": "97ac90f4",
   "metadata": {},
   "outputs": [
    {
     "data": {
      "text/plain": [
       "Text(0, 0.5, ' Standard Deviation')"
      ]
     },
     "execution_count": 33,
     "metadata": {},
     "output_type": "execute_result"
    },
    {
     "data": {
      "image/png": "[encoded data removed]",
      "text/plain": [
       "<Figure size 864x432 with 1 Axes>"
      ]
     },
     "metadata": {
      "needs_background": "light"
     },
     "output_type": "display_data"
    }
   ],
   "source": [
    "plt.figure(figsize=(12, 6))\n",
    "\n",
    "plt.plot(data.index, standrad_daily_returns, linestyle='-', marker='o', color='b')\n",
    "plt.title('Rolling Standard Deviation of Daily Returns')\n",
    "plt.xlabel('Date')\n",
    "plt.ylabel(' Standard Deviation')\n"
   ]
  },
  {
   "cell_type": "code",
   "execution_count": 34,
   "id": "e6c646e7",
   "metadata": {},
   "outputs": [],
   "source": [
    "#Calculate the correlation between the stock's returns and the returns of a market index (e.g., S&P 500)"
   ]
  },
  {
   "cell_type": "code",
   "execution_count": 35,
   "id": "9f73ac1e",
   "metadata": {},
   "outputs": [
    {
     "data": {
      "text/html": [
       "<div>\n",
       "<style scoped>\n",
       "    .dataframe tbody tr th:only-of-type {\n",
       "        vertical-align: middle;\n",
       "    }\n",
       "\n",
       "    .dataframe tbody tr th {\n",
       "        vertical-align: top;\n",
       "    }\n",
       "\n",
       "    .dataframe thead th {\n",
       "        text-align: right;\n",
       "    }\n",
       "</style>\n",
       "<table border=\"1\" class=\"dataframe\">\n",
       "  <thead>\n",
       "    <tr style=\"text-align: right;\">\n",
       "      <th></th>\n",
       "      <th>Open</th>\n",
       "      <th>Close</th>\n",
       "      <th>High</th>\n",
       "      <th>Low</th>\n",
       "      <th>Volume</th>\n",
       "      <th>Daily_returns</th>\n",
       "      <th>cumulative_returns</th>\n",
       "    </tr>\n",
       "    <tr>\n",
       "      <th>Date</th>\n",
       "      <th></th>\n",
       "      <th></th>\n",
       "      <th></th>\n",
       "      <th></th>\n",
       "      <th></th>\n",
       "      <th></th>\n",
       "      <th></th>\n",
       "    </tr>\n",
       "  </thead>\n",
       "  <tbody>\n",
       "    <tr>\n",
       "      <th>2023-01-01</th>\n",
       "      <td>100</td>\n",
       "      <td>105</td>\n",
       "      <td>110</td>\n",
       "      <td>95</td>\n",
       "      <td>1000000</td>\n",
       "      <td>NaN</td>\n",
       "      <td>NaN</td>\n",
       "    </tr>\n",
       "    <tr>\n",
       "      <th>2023-01-02</th>\n",
       "      <td>105</td>\n",
       "      <td>102</td>\n",
       "      <td>108</td>\n",
       "      <td>100</td>\n",
       "      <td>950000</td>\n",
       "      <td>-0.028571</td>\n",
       "      <td>-2.857143e-02</td>\n",
       "    </tr>\n",
       "    <tr>\n",
       "      <th>2023-01-03</th>\n",
       "      <td>102</td>\n",
       "      <td>108</td>\n",
       "      <td>112</td>\n",
       "      <td>100</td>\n",
       "      <td>1100000</td>\n",
       "      <td>0.058824</td>\n",
       "      <td>2.857143e-02</td>\n",
       "    </tr>\n",
       "    <tr>\n",
       "      <th>2023-01-04</th>\n",
       "      <td>108</td>\n",
       "      <td>110</td>\n",
       "      <td>115</td>\n",
       "      <td>105</td>\n",
       "      <td>1200000</td>\n",
       "      <td>0.018519</td>\n",
       "      <td>4.761905e-02</td>\n",
       "    </tr>\n",
       "    <tr>\n",
       "      <th>2023-01-05</th>\n",
       "      <td>110</td>\n",
       "      <td>115</td>\n",
       "      <td>120</td>\n",
       "      <td>108</td>\n",
       "      <td>1050000</td>\n",
       "      <td>0.045455</td>\n",
       "      <td>9.523810e-02</td>\n",
       "    </tr>\n",
       "    <tr>\n",
       "      <th>2023-01-06</th>\n",
       "      <td>115</td>\n",
       "      <td>112</td>\n",
       "      <td>118</td>\n",
       "      <td>110</td>\n",
       "      <td>980000</td>\n",
       "      <td>-0.026087</td>\n",
       "      <td>6.666667e-02</td>\n",
       "    </tr>\n",
       "    <tr>\n",
       "      <th>2023-01-07</th>\n",
       "      <td>112</td>\n",
       "      <td>105</td>\n",
       "      <td>115</td>\n",
       "      <td>100</td>\n",
       "      <td>1250000</td>\n",
       "      <td>-0.062500</td>\n",
       "      <td>2.220446e-16</td>\n",
       "    </tr>\n",
       "    <tr>\n",
       "      <th>2023-01-08</th>\n",
       "      <td>105</td>\n",
       "      <td>108</td>\n",
       "      <td>112</td>\n",
       "      <td>100</td>\n",
       "      <td>1150000</td>\n",
       "      <td>0.028571</td>\n",
       "      <td>2.857143e-02</td>\n",
       "    </tr>\n",
       "    <tr>\n",
       "      <th>2023-01-09</th>\n",
       "      <td>108</td>\n",
       "      <td>112</td>\n",
       "      <td>115</td>\n",
       "      <td>105</td>\n",
       "      <td>1050000</td>\n",
       "      <td>0.037037</td>\n",
       "      <td>6.666667e-02</td>\n",
       "    </tr>\n",
       "    <tr>\n",
       "      <th>2023-01-10</th>\n",
       "      <td>112</td>\n",
       "      <td>118</td>\n",
       "      <td>122</td>\n",
       "      <td>110</td>\n",
       "      <td>1000000</td>\n",
       "      <td>0.053571</td>\n",
       "      <td>1.238095e-01</td>\n",
       "    </tr>\n",
       "    <tr>\n",
       "      <th>2023-01-11</th>\n",
       "      <td>118</td>\n",
       "      <td>125</td>\n",
       "      <td>130</td>\n",
       "      <td>115</td>\n",
       "      <td>950000</td>\n",
       "      <td>0.059322</td>\n",
       "      <td>1.904762e-01</td>\n",
       "    </tr>\n",
       "    <tr>\n",
       "      <th>2023-01-12</th>\n",
       "      <td>125</td>\n",
       "      <td>120</td>\n",
       "      <td>128</td>\n",
       "      <td>115</td>\n",
       "      <td>900000</td>\n",
       "      <td>-0.040000</td>\n",
       "      <td>1.428571e-01</td>\n",
       "    </tr>\n",
       "    <tr>\n",
       "      <th>2023-01-13</th>\n",
       "      <td>120</td>\n",
       "      <td>118</td>\n",
       "      <td>124</td>\n",
       "      <td>112</td>\n",
       "      <td>850000</td>\n",
       "      <td>-0.016667</td>\n",
       "      <td>1.238095e-01</td>\n",
       "    </tr>\n",
       "    <tr>\n",
       "      <th>2023-01-14</th>\n",
       "      <td>118</td>\n",
       "      <td>122</td>\n",
       "      <td>126</td>\n",
       "      <td>115</td>\n",
       "      <td>820000</td>\n",
       "      <td>0.033898</td>\n",
       "      <td>1.619048e-01</td>\n",
       "    </tr>\n",
       "    <tr>\n",
       "      <th>2023-01-15</th>\n",
       "      <td>122</td>\n",
       "      <td>125</td>\n",
       "      <td>130</td>\n",
       "      <td>118</td>\n",
       "      <td>810000</td>\n",
       "      <td>0.024590</td>\n",
       "      <td>1.904762e-01</td>\n",
       "    </tr>\n",
       "  </tbody>\n",
       "</table>\n",
       "</div>"
      ],
      "text/plain": [
       "            Open  Close  High  Low   Volume  Daily_returns  cumulative_returns\n",
       "Date                                                                          \n",
       "2023-01-01   100    105   110   95  1000000            NaN                 NaN\n",
       "2023-01-02   105    102   108  100   950000      -0.028571       -2.857143e-02\n",
       "2023-01-03   102    108   112  100  1100000       0.058824        2.857143e-02\n",
       "2023-01-04   108    110   115  105  1200000       0.018519        4.761905e-02\n",
       "2023-01-05   110    115   120  108  1050000       0.045455        9.523810e-02\n",
       "2023-01-06   115    112   118  110   980000      -0.026087        6.666667e-02\n",
       "2023-01-07   112    105   115  100  1250000      -0.062500        2.220446e-16\n",
       "2023-01-08   105    108   112  100  1150000       0.028571        2.857143e-02\n",
       "2023-01-09   108    112   115  105  1050000       0.037037        6.666667e-02\n",
       "2023-01-10   112    118   122  110  1000000       0.053571        1.238095e-01\n",
       "2023-01-11   118    125   130  115   950000       0.059322        1.904762e-01\n",
       "2023-01-12   125    120   128  115   900000      -0.040000        1.428571e-01\n",
       "2023-01-13   120    118   124  112   850000      -0.016667        1.238095e-01\n",
       "2023-01-14   118    122   126  115   820000       0.033898        1.619048e-01\n",
       "2023-01-15   122    125   130  118   810000       0.024590        1.904762e-01"
      ]
     },
     "execution_count": 35,
     "metadata": {},
     "output_type": "execute_result"
    }
   ],
   "source": [
    "data"
   ]
  },
  {
   "cell_type": "code",
   "execution_count": 36,
   "id": "5fc2e694",
   "metadata": {},
   "outputs": [],
   "source": [
    "First_price=data.loc[data.index[0]]['Close']"
   ]
  },
  {
   "cell_type": "code",
   "execution_count": 37,
   "id": "d9b6b22e",
   "metadata": {},
   "outputs": [
    {
     "data": {
      "text/plain": [
       "105.0"
      ]
     },
     "execution_count": 37,
     "metadata": {},
     "output_type": "execute_result"
    }
   ],
   "source": [
    "First_price"
   ]
  },
  {
   "cell_type": "code",
   "execution_count": 38,
   "id": "cdc86464",
   "metadata": {},
   "outputs": [],
   "source": [
    "Last_price=data.loc[data.index[-1]]['Close']"
   ]
  },
  {
   "cell_type": "code",
   "execution_count": 39,
   "id": "e9c4f744",
   "metadata": {},
   "outputs": [
    {
     "data": {
      "text/plain": [
       "125.0"
      ]
     },
     "execution_count": 39,
     "metadata": {},
     "output_type": "execute_result"
    }
   ],
   "source": [
    "Last_price"
   ]
  },
  {
   "cell_type": "code",
   "execution_count": 40,
   "id": "1ec2b750",
   "metadata": {},
   "outputs": [],
   "source": [
    "Annual_returns=((Last_price-First_price)/First_price)*100"
   ]
  },
  {
   "cell_type": "code",
   "execution_count": 46,
   "id": "9444dffa",
   "metadata": {},
   "outputs": [
    {
     "data": {
      "text/plain": [
       "19.047619047619047"
      ]
     },
     "execution_count": 46,
     "metadata": {},
     "output_type": "execute_result"
    }
   ],
   "source": [
    "Annual_returns"
   ]
  },
  {
   "cell_type": "code",
   "execution_count": 42,
   "id": "0110d50b",
   "metadata": {},
   "outputs": [],
   "source": [
    "data['Returns'] = ((data['Close'] - data['Open']) / data['Open']) * 100\n"
   ]
  },
  {
   "cell_type": "code",
   "execution_count": 48,
   "id": "ae055feb",
   "metadata": {},
   "outputs": [
    {
     "data": {
      "text/html": [
       "<div>\n",
       "<style scoped>\n",
       "    .dataframe tbody tr th:only-of-type {\n",
       "        vertical-align: middle;\n",
       "    }\n",
       "\n",
       "    .dataframe tbody tr th {\n",
       "        vertical-align: top;\n",
       "    }\n",
       "\n",
       "    .dataframe thead th {\n",
       "        text-align: right;\n",
       "    }\n",
       "</style>\n",
       "<table border=\"1\" class=\"dataframe\">\n",
       "  <thead>\n",
       "    <tr style=\"text-align: right;\">\n",
       "      <th></th>\n",
       "      <th>Open</th>\n",
       "      <th>Close</th>\n",
       "      <th>High</th>\n",
       "      <th>Low</th>\n",
       "      <th>Volume</th>\n",
       "      <th>Daily_returns</th>\n",
       "      <th>cumulative_returns</th>\n",
       "      <th>Returns</th>\n",
       "    </tr>\n",
       "    <tr>\n",
       "      <th>Date</th>\n",
       "      <th></th>\n",
       "      <th></th>\n",
       "      <th></th>\n",
       "      <th></th>\n",
       "      <th></th>\n",
       "      <th></th>\n",
       "      <th></th>\n",
       "      <th></th>\n",
       "    </tr>\n",
       "  </thead>\n",
       "  <tbody>\n",
       "    <tr>\n",
       "      <th>2023-01-01</th>\n",
       "      <td>100</td>\n",
       "      <td>105</td>\n",
       "      <td>110</td>\n",
       "      <td>95</td>\n",
       "      <td>1000000</td>\n",
       "      <td>NaN</td>\n",
       "      <td>NaN</td>\n",
       "      <td>5.000000</td>\n",
       "    </tr>\n",
       "    <tr>\n",
       "      <th>2023-01-02</th>\n",
       "      <td>105</td>\n",
       "      <td>102</td>\n",
       "      <td>108</td>\n",
       "      <td>100</td>\n",
       "      <td>950000</td>\n",
       "      <td>-0.028571</td>\n",
       "      <td>-2.857143e-02</td>\n",
       "      <td>-2.857143</td>\n",
       "    </tr>\n",
       "    <tr>\n",
       "      <th>2023-01-03</th>\n",
       "      <td>102</td>\n",
       "      <td>108</td>\n",
       "      <td>112</td>\n",
       "      <td>100</td>\n",
       "      <td>1100000</td>\n",
       "      <td>0.058824</td>\n",
       "      <td>2.857143e-02</td>\n",
       "      <td>5.882353</td>\n",
       "    </tr>\n",
       "    <tr>\n",
       "      <th>2023-01-04</th>\n",
       "      <td>108</td>\n",
       "      <td>110</td>\n",
       "      <td>115</td>\n",
       "      <td>105</td>\n",
       "      <td>1200000</td>\n",
       "      <td>0.018519</td>\n",
       "      <td>4.761905e-02</td>\n",
       "      <td>1.851852</td>\n",
       "    </tr>\n",
       "    <tr>\n",
       "      <th>2023-01-05</th>\n",
       "      <td>110</td>\n",
       "      <td>115</td>\n",
       "      <td>120</td>\n",
       "      <td>108</td>\n",
       "      <td>1050000</td>\n",
       "      <td>0.045455</td>\n",
       "      <td>9.523810e-02</td>\n",
       "      <td>4.545455</td>\n",
       "    </tr>\n",
       "    <tr>\n",
       "      <th>2023-01-06</th>\n",
       "      <td>115</td>\n",
       "      <td>112</td>\n",
       "      <td>118</td>\n",
       "      <td>110</td>\n",
       "      <td>980000</td>\n",
       "      <td>-0.026087</td>\n",
       "      <td>6.666667e-02</td>\n",
       "      <td>-2.608696</td>\n",
       "    </tr>\n",
       "    <tr>\n",
       "      <th>2023-01-07</th>\n",
       "      <td>112</td>\n",
       "      <td>105</td>\n",
       "      <td>115</td>\n",
       "      <td>100</td>\n",
       "      <td>1250000</td>\n",
       "      <td>-0.062500</td>\n",
       "      <td>2.220446e-16</td>\n",
       "      <td>-6.250000</td>\n",
       "    </tr>\n",
       "    <tr>\n",
       "      <th>2023-01-08</th>\n",
       "      <td>105</td>\n",
       "      <td>108</td>\n",
       "      <td>112</td>\n",
       "      <td>100</td>\n",
       "      <td>1150000</td>\n",
       "      <td>0.028571</td>\n",
       "      <td>2.857143e-02</td>\n",
       "      <td>2.857143</td>\n",
       "    </tr>\n",
       "    <tr>\n",
       "      <th>2023-01-09</th>\n",
       "      <td>108</td>\n",
       "      <td>112</td>\n",
       "      <td>115</td>\n",
       "      <td>105</td>\n",
       "      <td>1050000</td>\n",
       "      <td>0.037037</td>\n",
       "      <td>6.666667e-02</td>\n",
       "      <td>3.703704</td>\n",
       "    </tr>\n",
       "    <tr>\n",
       "      <th>2023-01-10</th>\n",
       "      <td>112</td>\n",
       "      <td>118</td>\n",
       "      <td>122</td>\n",
       "      <td>110</td>\n",
       "      <td>1000000</td>\n",
       "      <td>0.053571</td>\n",
       "      <td>1.238095e-01</td>\n",
       "      <td>5.357143</td>\n",
       "    </tr>\n",
       "    <tr>\n",
       "      <th>2023-01-11</th>\n",
       "      <td>118</td>\n",
       "      <td>125</td>\n",
       "      <td>130</td>\n",
       "      <td>115</td>\n",
       "      <td>950000</td>\n",
       "      <td>0.059322</td>\n",
       "      <td>1.904762e-01</td>\n",
       "      <td>5.932203</td>\n",
       "    </tr>\n",
       "    <tr>\n",
       "      <th>2023-01-12</th>\n",
       "      <td>125</td>\n",
       "      <td>120</td>\n",
       "      <td>128</td>\n",
       "      <td>115</td>\n",
       "      <td>900000</td>\n",
       "      <td>-0.040000</td>\n",
       "      <td>1.428571e-01</td>\n",
       "      <td>-4.000000</td>\n",
       "    </tr>\n",
       "    <tr>\n",
       "      <th>2023-01-13</th>\n",
       "      <td>120</td>\n",
       "      <td>118</td>\n",
       "      <td>124</td>\n",
       "      <td>112</td>\n",
       "      <td>850000</td>\n",
       "      <td>-0.016667</td>\n",
       "      <td>1.238095e-01</td>\n",
       "      <td>-1.666667</td>\n",
       "    </tr>\n",
       "    <tr>\n",
       "      <th>2023-01-14</th>\n",
       "      <td>118</td>\n",
       "      <td>122</td>\n",
       "      <td>126</td>\n",
       "      <td>115</td>\n",
       "      <td>820000</td>\n",
       "      <td>0.033898</td>\n",
       "      <td>1.619048e-01</td>\n",
       "      <td>3.389831</td>\n",
       "    </tr>\n",
       "    <tr>\n",
       "      <th>2023-01-15</th>\n",
       "      <td>122</td>\n",
       "      <td>125</td>\n",
       "      <td>130</td>\n",
       "      <td>118</td>\n",
       "      <td>810000</td>\n",
       "      <td>0.024590</td>\n",
       "      <td>1.904762e-01</td>\n",
       "      <td>2.459016</td>\n",
       "    </tr>\n",
       "  </tbody>\n",
       "</table>\n",
       "</div>"
      ],
      "text/plain": [
       "            Open  Close  High  Low   Volume  Daily_returns  \\\n",
       "Date                                                         \n",
       "2023-01-01   100    105   110   95  1000000            NaN   \n",
       "2023-01-02   105    102   108  100   950000      -0.028571   \n",
       "2023-01-03   102    108   112  100  1100000       0.058824   \n",
       "2023-01-04   108    110   115  105  1200000       0.018519   \n",
       "2023-01-05   110    115   120  108  1050000       0.045455   \n",
       "2023-01-06   115    112   118  110   980000      -0.026087   \n",
       "2023-01-07   112    105   115  100  1250000      -0.062500   \n",
       "2023-01-08   105    108   112  100  1150000       0.028571   \n",
       "2023-01-09   108    112   115  105  1050000       0.037037   \n",
       "2023-01-10   112    118   122  110  1000000       0.053571   \n",
       "2023-01-11   118    125   130  115   950000       0.059322   \n",
       "2023-01-12   125    120   128  115   900000      -0.040000   \n",
       "2023-01-13   120    118   124  112   850000      -0.016667   \n",
       "2023-01-14   118    122   126  115   820000       0.033898   \n",
       "2023-01-15   122    125   130  118   810000       0.024590   \n",
       "\n",
       "            cumulative_returns   Returns  \n",
       "Date                                      \n",
       "2023-01-01                 NaN  5.000000  \n",
       "2023-01-02       -2.857143e-02 -2.857143  \n",
       "2023-01-03        2.857143e-02  5.882353  \n",
       "2023-01-04        4.761905e-02  1.851852  \n",
       "2023-01-05        9.523810e-02  4.545455  \n",
       "2023-01-06        6.666667e-02 -2.608696  \n",
       "2023-01-07        2.220446e-16 -6.250000  \n",
       "2023-01-08        2.857143e-02  2.857143  \n",
       "2023-01-09        6.666667e-02  3.703704  \n",
       "2023-01-10        1.238095e-01  5.357143  \n",
       "2023-01-11        1.904762e-01  5.932203  \n",
       "2023-01-12        1.428571e-01 -4.000000  \n",
       "2023-01-13        1.238095e-01 -1.666667  \n",
       "2023-01-14        1.619048e-01  3.389831  \n",
       "2023-01-15        1.904762e-01  2.459016  "
      ]
     },
     "execution_count": 48,
     "metadata": {},
     "output_type": "execute_result"
    }
   ],
   "source": [
    "data"
   ]
  },
  {
   "cell_type": "code",
   "execution_count": 49,
   "id": "5c2022ba",
   "metadata": {},
   "outputs": [],
   "source": [
    "corr=data['Daily_returns'].corr(data['Returns'])"
   ]
  },
  {
   "cell_type": "code",
   "execution_count": 50,
   "id": "5455fa81",
   "metadata": {},
   "outputs": [
    {
     "data": {
      "image/png": "[encoded data removed]",
      "text/plain": [
       "<Figure size 432x288 with 1 Axes>"
      ]
     },
     "metadata": {
      "needs_background": "light"
     },
     "output_type": "display_data"
    }
   ],
   "source": [
    "plt.scatter(data['Returns'], data['Daily_returns'])\n",
    "plt.title('Scatter Plot of daily_Returns vs.  Returns')\n",
    "plt.xlabel('Annual Returns')\n",
    "plt.ylabel('Daily Returns')\n",
    "plt.grid(True)\n",
    "plt.show()"
   ]
  },
  {
   "cell_type": "code",
   "execution_count": null,
   "id": "4338a2cb",
   "metadata": {},
   "outputs": [],
   "source": []
  },
  {
   "cell_type": "code",
   "execution_count": null,
   "id": "dfd39d92",
   "metadata": {},
   "outputs": [],
   "source": []
  },
  {
   "cell_type": "code",
   "execution_count": null,
   "id": "47619386",
   "metadata": {},
   "outputs": [],
   "source": []
  },
  {
   "cell_type": "code",
   "execution_count": null,
   "id": "f27b6235",
   "metadata": {},
   "outputs": [],
   "source": []
  },
  {
   "cell_type": "code",
   "execution_count": null,
   "id": "64fdeed1",
   "metadata": {},
   "outputs": [],
   "source": []
  },
  {
   "cell_type": "code",
   "execution_count": null,
   "id": "aa6fac2e",
   "metadata": {},
   "outputs": [],
   "source": []
  },
  {
   "cell_type": "code",
   "execution_count": null,
   "id": "a213fec0",
   "metadata": {},
   "outputs": [],
   "source": []
  },
  {
   "cell_type": "code",
   "execution_count": null,
   "id": "07b67be0",
   "metadata": {},
   "outputs": [],
   "source": []
  },
  {
   "cell_type": "code",
   "execution_count": null,
   "id": "7cf20132",
   "metadata": {},
   "outputs": [],
   "source": []
  },
  {
   "cell_type": "code",
   "execution_count": null,
   "id": "ae65aa15",
   "metadata": {},
   "outputs": [],
   "source": []
  },
  {
   "cell_type": "code",
   "execution_count": null,
   "id": "5561626e",
   "metadata": {},
   "outputs": [],
   "source": []
  },
  {
   "cell_type": "code",
   "execution_count": null,
   "id": "a071797f",
   "metadata": {},
   "outputs": [],
   "source": []
  },
  {
   "cell_type": "code",
   "execution_count": null,
   "id": "ffdd4225",
   "metadata": {},
   "outputs": [],
   "source": []
  },
  {
   "cell_type": "code",
   "execution_count": null,
   "id": "007ec46e",
   "metadata": {},
   "outputs": [],
   "source": []
  },
  {
   "cell_type": "code",
   "execution_count": null,
   "id": "c73fa047",
   "metadata": {},
   "outputs": [],
   "source": []
  },
  {
   "cell_type": "code",
   "execution_count": null,
   "id": "a09e5769",
   "metadata": {},
   "outputs": [],
   "source": []
  },
  {
   "cell_type": "code",
   "execution_count": null,
   "id": "4a0f344e",
   "metadata": {},
   "outputs": [],
   "source": []
  }
 ],
 "metadata": {
  "kernelspec": {
   "display_name": "Python 3 (ipykernel)",
   "language": "python",
   "name": "python3"
  },
  "language_info": {
   "codemirror_mode": {
    "name": "ipython",
    "version": 3
   },
   "file_extension": ".py",
   "mimetype": "text/x-python",
   "name": "python",
   "nbconvert_exporter": "python",
   "pygments_lexer": "ipython3",
   "version": "3.9.12"
  }
 },
 "nbformat": 4,
 "nbformat_minor": 5
}
